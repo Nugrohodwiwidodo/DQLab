{
  "nbformat": 4,
  "nbformat_minor": 0,
  "metadata": {
    "colab": {
      "name": "Bootcamp_DQLab_Python Fundamental",
      "private_outputs": true,
      "provenance": [],
      "collapsed_sections": []
    },
    "kernelspec": {
      "name": "python3",
      "display_name": "Python 3"
    },
    "language_info": {
      "name": "python"
    }
  },
  "cells": [
    {
      "cell_type": "code",
      "execution_count": null,
      "metadata": {
        "id": "_txpZ4jD8drt"
      },
      "outputs": [],
      "source": [
        "print(\"Hello World\")"
      ]
    },
    {
      "cell_type": "code",
      "source": [
        "print(5+1)"
      ],
      "metadata": {
        "id": "wh58bWkkAA5X"
      },
      "execution_count": null,
      "outputs": []
    },
    {
      "cell_type": "code",
      "source": [
        "print(10*2+5)\n",
        "print(\"Academy DQLab\")"
      ],
      "metadata": {
        "id": "tUHDBQvKAB5x"
      },
      "execution_count": null,
      "outputs": []
    },
    {
      "cell_type": "markdown",
      "source": [
        "Comment pada python"
      ],
      "metadata": {
        "id": "7vxtfMGAASJH"
      }
    },
    {
      "cell_type": "code",
      "source": [
        "print(10*2+5) #fungsi matematika\n",
        "print(\"Academy DQLab\") #fungsi mencetak kalimat"
      ],
      "metadata": {
        "id": "TKXkhYLsAC74"
      },
      "execution_count": null,
      "outputs": []
    },
    {
      "cell_type": "markdown",
      "source": [
        "Printing Data Type"
      ],
      "metadata": {
        "id": "0wNuX9gHCC4M"
      }
    },
    {
      "cell_type": "code",
      "source": [
        "var_string=\"Belajar Python DQLAB\"\n",
        "var_int=10\n",
        "var_float=3.14\n",
        "var_list=[1,2,3,4]\n",
        "var_tuple=(\"satu\",\"dua\",\"tiga\")\n",
        "var_dict={\"nama\":\"Ali\", \"umur\":20}\n",
        "\n",
        "print(var_string)\n",
        "print(var_int)\n",
        "print(var_float)\n",
        "print(var_list)\n",
        "print(var_tuple)\n",
        "print(var_dict)\n",
        "\n",
        "print(type(var_string))\n",
        "print(type(var_int))\n",
        "print(type(var_float))\n",
        "print(type(var_list))\n",
        "print(type(var_tuple))\n",
        "print(type(var_dict))"
      ],
      "metadata": {
        "id": "pMIgKIAhANvW"
      },
      "execution_count": null,
      "outputs": []
    },
    {
      "cell_type": "markdown",
      "source": [
        "IF statement"
      ],
      "metadata": {
        "id": "h0grpHm-DFXo"
      }
    },
    {
      "cell_type": "code",
      "source": [
        "i = 10 #inisialisasi variable i yang memiliki nilai 10\n",
        "\n",
        "if(i==10): #pengecekan nilai i apakah sama dengan 10\n",
        "\tprint(\"ini adalah angka 10\") #jika TRUE maka akan mencetak kalimat ini"
      ],
      "metadata": {
        "id": "mKcuZE_MCF0c"
      },
      "execution_count": null,
      "outputs": []
    },
    {
      "cell_type": "markdown",
      "source": [
        "IF ... ELSE ..."
      ],
      "metadata": {
        "id": "7k4iY-UlDOXQ"
      }
    },
    {
      "cell_type": "code",
      "source": [
        "i = 5 #inisialisasi variable i yang memiliki nilai 10\n",
        "\n",
        "if(i==10): #pengecekan nilai i apakah sama dengan 10\n",
        "\tprint(\"ini adalah angka 10\") #jika TRUE maka akan mencetak kalimat ini\n",
        "else :\n",
        "\tprint(\"bukan angka 10\") #jika FALSE akan mencetak kalimat ini"
      ],
      "metadata": {
        "id": "beaOXFxSDHb5"
      },
      "execution_count": null,
      "outputs": []
    },
    {
      "cell_type": "markdown",
      "source": [
        "IF ... ELIF... ELSE ..."
      ],
      "metadata": {
        "id": "Jt0ZlpV9DyxE"
      }
    },
    {
      "cell_type": "code",
      "source": [
        "i = 3\n",
        "\n",
        "if(i==5):\n",
        "\tprint(\"ini adalah angka 5\")\n",
        "elif(i>5):\n",
        "\tprint(\"lebih besar dari 5\")\n",
        "else:\n",
        "\tprint(\"lebih kecil dari 5\")"
      ],
      "metadata": {
        "id": "AXRNk34IDyK5"
      },
      "execution_count": null,
      "outputs": []
    },
    {
      "cell_type": "markdown",
      "source": [
        "NESTED IF"
      ],
      "metadata": {
        "id": "q1id3ulDEaCW"
      }
    },
    {
      "cell_type": "code",
      "source": [
        "i=2\n",
        "if(i<7):\n",
        "\tprint(\"nilai i kurang dari 7\")\n",
        "\tif(i<3):\n",
        "\t\tprint(\"nilai i kurang dari 7 dan kurang dari 3\")\n",
        "\telse:\n",
        "\t\tprint(\"nilai i kurang dari 7 tapi lebih dari 3\")"
      ],
      "metadata": {
        "id": "FUGrJxFIEYor"
      },
      "execution_count": null,
      "outputs": []
    },
    {
      "cell_type": "markdown",
      "source": [
        "Praktik Operasi Matematika"
      ],
      "metadata": {
        "id": "88mpJeDOE8p6"
      }
    },
    {
      "cell_type": "code",
      "source": [
        "a=10\n",
        "b=5\n",
        "selisih=a-b\n",
        "jumlah=a+b\n",
        "kali=a*b\n",
        "bagi=a/b\n",
        "print(\"Hasil penjumlahan a dan b adalah\",jumlah)\n",
        "print(\"Selisih a dan b adalah:\",selisih)\n",
        "print(\"Hasil perkalian a dan b adalah :\",kali)\n",
        "print(\"Hasil pembagian a dan b adalah :\",bagi)"
      ],
      "metadata": {
        "id": "KlGATReYE8Cc"
      },
      "execution_count": null,
      "outputs": []
    },
    {
      "cell_type": "markdown",
      "source": [
        "Operasi modulus"
      ],
      "metadata": {
        "id": "2AjG8CM-FuF_"
      }
    },
    {
      "cell_type": "code",
      "source": [
        "c=10\n",
        "d=3\n",
        "\n",
        "modulus=c%d\n",
        "print(\"Hasil modulus\",modulus)"
      ],
      "metadata": {
        "id": "PalrloZyFn27"
      },
      "execution_count": null,
      "outputs": []
    },
    {
      "cell_type": "markdown",
      "source": [
        "Tugas Mid Praktek\n",
        "\n",
        "Buatlah sebuah program yang dapat menentukan suatu variabel apakah merupakan bilangan genap atau ganjil. Lakukan percobaan dengan langkah berikut:\n",
        "\n",
        "Buat variabel dengan nama “angka” yang diisi dengan nilai 10\n",
        "Ganti bagian … dengan perhitungan untuk menentukan angka modulus 2 bernilai 0.\n",
        "Jika angka bernilai genap maka keluarkan \"angka termasuk bilangan genap\". Selanjutnya, ganti nilai variable angka dengan nilai 5 dan ceklah kembali apakah angka bernilai ganjil. Jika iya, keluarkan \"angka termasuk bilangan ganjil\"."
      ],
      "metadata": {
        "id": "D6zo4AwcGBkT"
      }
    },
    {
      "cell_type": "code",
      "source": [
        "angka=10\n",
        "\n",
        "if(angka%2==0):\n",
        "    print(\"angka termasuk bilangan genap\")\n",
        "else:\n",
        "    print(\"angka termasuk bilangan ganjil\")"
      ],
      "metadata": {
        "id": "ZHjouShAGf_k"
      },
      "execution_count": null,
      "outputs": []
    },
    {
      "cell_type": "code",
      "source": [
        "angka=5\n",
        "\n",
        "if(angka%2==0):\n",
        "    print(\"angka termasuk bilangan genap\")\n",
        "else:\n",
        "    print(\"angka termasuk bilangan ganjil\")"
      ],
      "metadata": {
        "id": "SgcKfTr6GBC9"
      },
      "execution_count": null,
      "outputs": []
    },
    {
      "cell_type": "markdown",
      "source": [
        "While"
      ],
      "metadata": {
        "id": "jXIs33pmGmlU"
      }
    },
    {
      "cell_type": "code",
      "source": [
        "#nilai awal j=0\n",
        "j = 0\n",
        "\n",
        "#ketika j kurang dari 6 lakukan perulangan, jika tidak stop perulangan \n",
        "while j<6:\n",
        "\t#lakukan perintah ini ketika perulangan\n",
        "\tprint(\"Ini adalah perulangan ke -\",j)\n",
        "\t#setiap kali diakhir perulangan update nilai dengan ditamba 1.\n",
        "\tj=j+1"
      ],
      "metadata": {
        "id": "myd8-CHiGepU"
      },
      "execution_count": null,
      "outputs": []
    },
    {
      "cell_type": "markdown",
      "source": [
        "for(1)"
      ],
      "metadata": {
        "id": "4RWnaFBaI7IL"
      }
    },
    {
      "cell_type": "code",
      "source": [
        "for i in range (1,6): #perulangan for sebagai inisialisasi dari angka 1 hingga angka yang lebih kecil daripada 6.\n",
        "\tprint(\"Ini adalah perulangan ke -\",i) #perintah jika loopinh akan tetap berjalan"
      ],
      "metadata": {
        "id": "-RJkMpTgIl3s"
      },
      "execution_count": null,
      "outputs": []
    },
    {
      "cell_type": "markdown",
      "source": [
        "for (2) with access element"
      ],
      "metadata": {
        "id": "-aLEgMKXJcVD"
      }
    },
    {
      "cell_type": "code",
      "source": [
        "count=[1,2,3,4,5,6,7,8,9,10,11]\n",
        "for i in count:\n",
        "    if(i%2==0):\n",
        "        print(\"Angka genap\",i)\n",
        "    else:\n",
        "         print(\"Angka ganjil\",i)"
      ],
      "metadata": {
        "id": "cEsG8etmJPr9"
      },
      "execution_count": null,
      "outputs": []
    },
    {
      "cell_type": "markdown",
      "source": [
        "Membuat fungsi sendiri"
      ],
      "metadata": {
        "id": "6rmnPDZZKUX4"
      }
    },
    {
      "cell_type": "code",
      "source": [
        "#Membuat Fungsi\n",
        "def salam():\n",
        "\tprint(\"Hello, Selamat Pagi\")\n",
        "\n",
        "##Pemanggilan Fungsi\n",
        "salam()"
      ],
      "metadata": {
        "id": "0iXhv8YsJ7W8"
      },
      "execution_count": null,
      "outputs": []
    },
    {
      "cell_type": "markdown",
      "source": [
        "Parameter pada fungsi"
      ],
      "metadata": {
        "id": "Kv64rb9_K47o"
      }
    },
    {
      "cell_type": "code",
      "source": [
        "def luas_segitiga(alas, tinggi): #alas dan tinggi merupakan parameter yang masuk\n",
        "\tluas = (alas*tinggi)/2\n",
        "\tprint(\"Luas segitiga: %f\"%luas);\n",
        "\t\n",
        "#Pemanggilan fungsi\n",
        "##4 dan 6 merupakan parameter yang diinputkan kedalam fungsi luas segitiga\n",
        "luas_segitiga(4,6)"
      ],
      "metadata": {
        "id": "7_tW_quAKwMP"
      },
      "execution_count": null,
      "outputs": []
    },
    {
      "cell_type": "markdown",
      "source": [
        "Fungsi dengan Return Value"
      ],
      "metadata": {
        "id": "hry5Wv4hMAOa"
      }
    },
    {
      "cell_type": "code",
      "source": [
        "def luas_segitiga(alas, tinggi): #alas dan tinggi merupakan parameter yang masuk\n",
        "\tluas=(alas*tinggi)/2\n",
        "\treturn luas\n",
        "\n",
        "#Pemanggilan fungsi\n",
        "##4 dan 6 merupakan parameter yang diinputkan kedalam fungsi luas segitiga\n",
        "print(\"Luas segitiga: %d\" % luas_segitiga(4,6))"
      ],
      "metadata": {
        "id": "_F-D56ZxL7Jz"
      },
      "execution_count": null,
      "outputs": []
    },
    {
      "cell_type": "markdown",
      "source": [
        "Import Package dan Menggunakan modul"
      ],
      "metadata": {
        "id": "gF-nf0MdNCfF"
      }
    },
    {
      "cell_type": "code",
      "source": [
        "import math\n",
        "print(\"Nilai pi adalah:\", math.pi) # math.pi merupakan sintak untuk memanggil fungsi pi"
      ],
      "metadata": {
        "id": "lKQj7DBxM5WV"
      },
      "execution_count": null,
      "outputs": []
    },
    {
      "cell_type": "markdown",
      "source": [
        "Import dengan Module Rename atau Alias"
      ],
      "metadata": {
        "id": "tZcGYUnwNXp_"
      }
    },
    {
      "cell_type": "code",
      "source": [
        "import math as m #menggunakan m sebagai module rename atau alias\n",
        "print(\"Nilai pi adalah:\", m.pi) #m.pi merupakan sintak untuk memanggil f fungsi"
      ],
      "metadata": {
        "id": "GX9VkDPkNMfW"
      },
      "execution_count": null,
      "outputs": []
    },
    {
      "cell_type": "markdown",
      "source": [
        "Import Sebagian Fungsi"
      ],
      "metadata": {
        "id": "HY-s0UhQNtAz"
      }
    },
    {
      "cell_type": "code",
      "source": [
        "from math import pi\n",
        "print(\"Nilai pi adalah\", pi)"
      ],
      "metadata": {
        "id": "a1FeD6-jNpn3"
      },
      "execution_count": null,
      "outputs": []
    },
    {
      "cell_type": "markdown",
      "source": [
        "\n",
        "Import Semua isi Moduls"
      ],
      "metadata": {
        "id": "twmVW2l9OBav"
      }
    },
    {
      "cell_type": "code",
      "source": [
        "from math import *\n",
        "print(\"Nilai e adalah:\",e)"
      ],
      "metadata": {
        "id": "Gfu7J24gN2lS"
      },
      "execution_count": null,
      "outputs": []
    },
    {
      "cell_type": "markdown",
      "source": [
        "Membaca Teks File (CSV)"
      ],
      "metadata": {
        "id": "-vBMOCZWOEkf"
      }
    },
    {
      "cell_type": "code",
      "source": [
        "import requests\n",
        "from contextlib import closing\n",
        "import csv\n",
        "\n",
        "#tentukan lokasi file, nama file, dan inisialisasi csv\n",
        "url = 'https://storage.googleapis.com/dqlab-dataset/penduduk_gender_head.csv'\n",
        "\n",
        "#baca file csv secara streaming\n",
        "with closing(requests.get(url, stream=True)) as r:\n",
        "\tf=(line.decode('utf-8')for line in r.iter_lines())\n",
        "\t\n",
        "\treader = csv.reader(f, delimiter=',')\n",
        "\t\n",
        "\t#membaca baris per baris\n",
        "\tfor row in reader :\n",
        "\t\tprint(row)"
      ],
      "metadata": {
        "id": "ccMuryP6OAfV"
      },
      "execution_count": null,
      "outputs": []
    },
    {
      "cell_type": "markdown",
      "source": [
        "Membaca Teks File (CSV) dari local computer"
      ],
      "metadata": {
        "id": "ymU74ZPNQ5E7"
      }
    },
    {
      "cell_type": "code",
      "source": [
        "import csv\n",
        "\n",
        "# tentukan lokasi file, nama file, dan inisialisasi csv\n",
        "f = open('/content/Data_Negara_HELP (1).csv', 'r')\n",
        "reader=csv.reader(f)\n",
        "\n",
        "#membaca baris per baris\n",
        "for row in reader:\n",
        "\tprint(row)\n",
        "\t\n",
        "#menutup file csv\n",
        "f.close()"
      ],
      "metadata": {
        "id": "u260INRyPPpe"
      },
      "execution_count": null,
      "outputs": []
    },
    {
      "cell_type": "markdown",
      "source": [
        "Membaca file CSV dengan menggunakan PANDAS"
      ],
      "metadata": {
        "id": "leFu34ZjRfjh"
      }
    },
    {
      "cell_type": "code",
      "source": [
        "import pandas as pd\n",
        "pd.set_option(\"display.max_columns\",50)\n",
        "\n",
        "table = pd.read_csv(\"https://storage.googleapis.com/dqlab-dataset/penduduk_gender_head.csv\")\n",
        "table.head()\n",
        "print(table)"
      ],
      "metadata": {
        "id": "j4lAMxs8Q3Rv"
      },
      "execution_count": null,
      "outputs": []
    },
    {
      "cell_type": "markdown",
      "source": [
        "Bar Chart"
      ],
      "metadata": {
        "id": "mIqR3CuYRpz5"
      }
    },
    {
      "cell_type": "code",
      "source": [
        "import pandas as pd\n",
        "import numpy as np\n",
        "import matplotlib.pyplot as plt\n",
        "\n",
        "table = pd.read_csv(\"https://storage.googleapis.com/dqlab-dataset/penduduk_gender_head.csv\")\n",
        "table.head()\n",
        "x_label = table['NAMA KELURAHAN']\n",
        "plt.bar(x=np.arange(len(x_label)),height=table['LAKI-LAKI WNI'])\n",
        "plt.show()"
      ],
      "metadata": {
        "id": "O5N8k_GCSMjT"
      },
      "execution_count": null,
      "outputs": []
    },
    {
      "cell_type": "markdown",
      "source": [
        "Parameter dalam Grafik (Memberikan Nilai Axis dari data CSV)"
      ],
      "metadata": {
        "id": "PFPa77kkSSLr"
      }
    },
    {
      "cell_type": "code",
      "source": [
        "import pandas as pd\n",
        "import numpy as np\n",
        "import matplotlib.pyplot as plt\n",
        "\n",
        "table=pd.read_csv(\"https://storage.googleapis.com/dqlab-dataset/penduduk_gender_head.csv\")\n",
        "table.head()\n",
        "\n",
        "x_label=table['NAMA KELURAHAN']\n",
        "plt.figure(figsize=(20,10))\n",
        "plt.bar(x=np.arange(len(x_label)),height=table['LAKI-LAKI WNI'])\n",
        "plt.xticks(np.arange(len(x_label)),table['NAMA KELURAHAN'], rotation=90)\n",
        "plt.show()"
      ],
      "metadata": {
        "id": "FC_REbQaSMwV"
      },
      "execution_count": null,
      "outputs": []
    },
    {
      "cell_type": "markdown",
      "source": [
        "Menambah Title dan Label pada Grafik"
      ],
      "metadata": {
        "id": "7EHZfwo8TNas"
      }
    },
    {
      "cell_type": "code",
      "source": [
        "import pandas as pd\n",
        "import numpy as np\n",
        "import matplotlib.pyplot as plt\n",
        "\n",
        "table =pd.read_csv(\"https://storage.googleapis.com/dqlab-dataset/penduduk_gender_head.csv\")\n",
        "table.head()\n",
        "\n",
        "x_label = table['NAMA KELURAHAN']\n",
        "plt.figure(figsize=(20,10))\n",
        "plt.bar(x=np.arange(len(x_label)), height=table['LAKI-LAKI WNI'])\n",
        "plt.xticks(np.arange(len(x_label)), table['NAMA KELURAHAN'], rotation=90)\n",
        "plt.xlabel('Kelurahan di Jakarta Pusat')\n",
        "plt.ylabel('Jumlah Penduduk Laki - Laki')\n",
        "plt.title('Persebaran Jumlah Penduduk Laki - Laki di Jakarta Pusat')\n",
        "\n",
        "plt.show()"
      ],
      "metadata": {
        "id": "QLA5OQPKTAfm"
      },
      "execution_count": null,
      "outputs": []
    }
  ]
}