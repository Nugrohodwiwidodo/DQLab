{
  "nbformat": 4,
  "nbformat_minor": 0,
  "metadata": {
    "colab": {
      "name": "Bootcamp_DQLab_Python Fundamental",
      "provenance": [],
      "collapsed_sections": [],
      "toc_visible": true
    },
    "kernelspec": {
      "name": "python3",
      "display_name": "Python 3"
    },
    "language_info": {
      "name": "python"
    }
  },
  "cells": [
    {
      "cell_type": "code",
      "execution_count": 70,
      "metadata": {
        "colab": {
          "base_uri": "https://localhost:8080/"
        },
        "id": "_txpZ4jD8drt",
        "outputId": "29740b53-74dd-46fb-e8bf-8c8ed6e2675e"
      },
      "outputs": [
        {
          "output_type": "stream",
          "name": "stdout",
          "text": [
            "Hello World\n"
          ]
        }
      ],
      "source": [
        "print(\"Hello World\")"
      ]
    },
    {
      "cell_type": "code",
      "source": [
        "print(5+1)"
      ],
      "metadata": {
        "colab": {
          "base_uri": "https://localhost:8080/"
        },
        "id": "wh58bWkkAA5X",
        "outputId": "71ebbd85-6b25-4a4d-f625-60b24debb719"
      },
      "execution_count": 71,
      "outputs": [
        {
          "output_type": "stream",
          "name": "stdout",
          "text": [
            "6\n"
          ]
        }
      ]
    },
    {
      "cell_type": "code",
      "source": [
        "print(10*2+5)\n",
        "print(\"Academy DQLab\")"
      ],
      "metadata": {
        "colab": {
          "base_uri": "https://localhost:8080/"
        },
        "id": "tUHDBQvKAB5x",
        "outputId": "57a54f18-598d-4833-96f1-8d7462cca947"
      },
      "execution_count": 72,
      "outputs": [
        {
          "output_type": "stream",
          "name": "stdout",
          "text": [
            "25\n",
            "Academy DQLab\n"
          ]
        }
      ]
    },
    {
      "cell_type": "markdown",
      "source": [
        "Comment pada python"
      ],
      "metadata": {
        "id": "7vxtfMGAASJH"
      }
    },
    {
      "cell_type": "code",
      "source": [
        "print(10*2+5) #fungsi matematika\n",
        "print(\"Academy DQLab\") #fungsi mencetak kalimat"
      ],
      "metadata": {
        "colab": {
          "base_uri": "https://localhost:8080/"
        },
        "id": "TKXkhYLsAC74",
        "outputId": "f4ef02d1-1f19-4754-a8e8-2a6e5f239e71"
      },
      "execution_count": 73,
      "outputs": [
        {
          "output_type": "stream",
          "name": "stdout",
          "text": [
            "25\n",
            "Academy DQLab\n"
          ]
        }
      ]
    },
    {
      "cell_type": "markdown",
      "source": [
        "Printing Data Type"
      ],
      "metadata": {
        "id": "0wNuX9gHCC4M"
      }
    },
    {
      "cell_type": "code",
      "source": [
        "var_string=\"Belajar Python DQLAB\"\n",
        "var_int=10\n",
        "var_float=3.14\n",
        "var_list=[1,2,3,4]\n",
        "var_tuple=(\"satu\",\"dua\",\"tiga\")\n",
        "var_dict={\"nama\":\"Ali\", \"umur\":20}\n",
        "\n",
        "print(var_string)\n",
        "print(var_int)\n",
        "print(var_float)\n",
        "print(var_list)\n",
        "print(var_tuple)\n",
        "print(var_dict)\n",
        "\n",
        "print(type(var_string))\n",
        "print(type(var_int))\n",
        "print(type(var_float))\n",
        "print(type(var_list))\n",
        "print(type(var_tuple))\n",
        "print(type(var_dict))"
      ],
      "metadata": {
        "colab": {
          "base_uri": "https://localhost:8080/"
        },
        "id": "pMIgKIAhANvW",
        "outputId": "12490fce-f8f6-45fa-a3fd-9ac9d5095347"
      },
      "execution_count": 74,
      "outputs": [
        {
          "output_type": "stream",
          "name": "stdout",
          "text": [
            "Belajar Python DQLAB\n",
            "10\n",
            "3.14\n",
            "[1, 2, 3, 4]\n",
            "('satu', 'dua', 'tiga')\n",
            "{'nama': 'Ali', 'umur': 20}\n",
            "<class 'str'>\n",
            "<class 'int'>\n",
            "<class 'float'>\n",
            "<class 'list'>\n",
            "<class 'tuple'>\n",
            "<class 'dict'>\n"
          ]
        }
      ]
    },
    {
      "cell_type": "markdown",
      "source": [
        "IF statement"
      ],
      "metadata": {
        "id": "h0grpHm-DFXo"
      }
    },
    {
      "cell_type": "code",
      "source": [
        "i = 10 #inisialisasi variable i yang memiliki nilai 10\n",
        "\n",
        "if(i==10): #pengecekan nilai i apakah sama dengan 10\n",
        "\tprint(\"ini adalah angka 10\") #jika TRUE maka akan mencetak kalimat ini"
      ],
      "metadata": {
        "colab": {
          "base_uri": "https://localhost:8080/"
        },
        "id": "mKcuZE_MCF0c",
        "outputId": "93c15ccf-1427-4f5f-f9ae-1afeb6338959"
      },
      "execution_count": 75,
      "outputs": [
        {
          "output_type": "stream",
          "name": "stdout",
          "text": [
            "ini adalah angka 10\n"
          ]
        }
      ]
    },
    {
      "cell_type": "markdown",
      "source": [
        "IF ... ELSE ..."
      ],
      "metadata": {
        "id": "7k4iY-UlDOXQ"
      }
    },
    {
      "cell_type": "code",
      "source": [
        "i = 5 #inisialisasi variable i yang memiliki nilai 10\n",
        "\n",
        "if(i==10): #pengecekan nilai i apakah sama dengan 10\n",
        "\tprint(\"ini adalah angka 10\") #jika TRUE maka akan mencetak kalimat ini\n",
        "else :\n",
        "\tprint(\"bukan angka 10\") #jika FALSE akan mencetak kalimat ini"
      ],
      "metadata": {
        "colab": {
          "base_uri": "https://localhost:8080/"
        },
        "id": "beaOXFxSDHb5",
        "outputId": "a6c09c0e-47eb-4080-e0e3-97b125b2f947"
      },
      "execution_count": 76,
      "outputs": [
        {
          "output_type": "stream",
          "name": "stdout",
          "text": [
            "bukan angka 10\n"
          ]
        }
      ]
    },
    {
      "cell_type": "markdown",
      "source": [
        "IF ... ELIF... ELSE ..."
      ],
      "metadata": {
        "id": "Jt0ZlpV9DyxE"
      }
    },
    {
      "cell_type": "code",
      "source": [
        "i = 3\n",
        "\n",
        "if(i==5):\n",
        "\tprint(\"ini adalah angka 5\")\n",
        "elif(i>5):\n",
        "\tprint(\"lebih besar dari 5\")\n",
        "else:\n",
        "\tprint(\"lebih kecil dari 5\")"
      ],
      "metadata": {
        "colab": {
          "base_uri": "https://localhost:8080/"
        },
        "id": "AXRNk34IDyK5",
        "outputId": "955ec4ab-e703-45f8-8115-b5fe96d0c920"
      },
      "execution_count": 77,
      "outputs": [
        {
          "output_type": "stream",
          "name": "stdout",
          "text": [
            "lebih kecil dari 5\n"
          ]
        }
      ]
    },
    {
      "cell_type": "markdown",
      "source": [
        "NESTED IF"
      ],
      "metadata": {
        "id": "q1id3ulDEaCW"
      }
    },
    {
      "cell_type": "code",
      "source": [
        "i=2\n",
        "if(i<7):\n",
        "\tprint(\"nilai i kurang dari 7\")\n",
        "\tif(i<3):\n",
        "\t\tprint(\"nilai i kurang dari 7 dan kurang dari 3\")\n",
        "\telse:\n",
        "\t\tprint(\"nilai i kurang dari 7 tapi lebih dari 3\")"
      ],
      "metadata": {
        "colab": {
          "base_uri": "https://localhost:8080/"
        },
        "id": "FUGrJxFIEYor",
        "outputId": "bb2bf0c5-ca06-4142-b644-84e6070cea01"
      },
      "execution_count": 78,
      "outputs": [
        {
          "output_type": "stream",
          "name": "stdout",
          "text": [
            "nilai i kurang dari 7\n",
            "nilai i kurang dari 7 dan kurang dari 3\n"
          ]
        }
      ]
    },
    {
      "cell_type": "markdown",
      "source": [
        "Praktik Operasi Matematika"
      ],
      "metadata": {
        "id": "88mpJeDOE8p6"
      }
    },
    {
      "cell_type": "code",
      "source": [
        "a=10\n",
        "b=5\n",
        "selisih=a-b\n",
        "jumlah=a+b\n",
        "kali=a*b\n",
        "bagi=a/b\n",
        "print(\"Hasil penjumlahan a dan b adalah\",jumlah)\n",
        "print(\"Selisih a dan b adalah:\",selisih)\n",
        "print(\"Hasil perkalian a dan b adalah :\",kali)\n",
        "print(\"Hasil pembagian a dan b adalah :\",bagi)"
      ],
      "metadata": {
        "colab": {
          "base_uri": "https://localhost:8080/"
        },
        "id": "KlGATReYE8Cc",
        "outputId": "8807deb5-79d3-4b98-ab6e-535306ebed0f"
      },
      "execution_count": 79,
      "outputs": [
        {
          "output_type": "stream",
          "name": "stdout",
          "text": [
            "Hasil penjumlahan a dan b adalah 15\n",
            "Selisih a dan b adalah: 5\n",
            "Hasil perkalian a dan b adalah : 50\n",
            "Hasil pembagian a dan b adalah : 2.0\n"
          ]
        }
      ]
    },
    {
      "cell_type": "markdown",
      "source": [
        "Operasi modulus"
      ],
      "metadata": {
        "id": "2AjG8CM-FuF_"
      }
    },
    {
      "cell_type": "code",
      "source": [
        "c=10\n",
        "d=3\n",
        "\n",
        "modulus=c%d\n",
        "print(\"Hasil modulus\",modulus)"
      ],
      "metadata": {
        "colab": {
          "base_uri": "https://localhost:8080/"
        },
        "id": "PalrloZyFn27",
        "outputId": "6da3dc43-f666-4ba8-9cc4-1d337e8fa42e"
      },
      "execution_count": 80,
      "outputs": [
        {
          "output_type": "stream",
          "name": "stdout",
          "text": [
            "Hasil modulus 1\n"
          ]
        }
      ]
    },
    {
      "cell_type": "markdown",
      "source": [
        "Tugas Mid Praktek\n",
        "\n",
        "Buatlah sebuah program yang dapat menentukan suatu variabel apakah merupakan bilangan genap atau ganjil. Lakukan percobaan dengan langkah berikut:\n",
        "\n",
        "Buat variabel dengan nama “angka” yang diisi dengan nilai 10\n",
        "Ganti bagian … dengan perhitungan untuk menentukan angka modulus 2 bernilai 0.\n",
        "Jika angka bernilai genap maka keluarkan \"angka termasuk bilangan genap\". Selanjutnya, ganti nilai variable angka dengan nilai 5 dan ceklah kembali apakah angka bernilai ganjil. Jika iya, keluarkan \"angka termasuk bilangan ganjil\"."
      ],
      "metadata": {
        "id": "D6zo4AwcGBkT"
      }
    },
    {
      "cell_type": "code",
      "source": [
        "angka=10\n",
        "\n",
        "if(angka%2==0):\n",
        "    print(\"angka termasuk bilangan genap\")\n",
        "else:\n",
        "    print(\"angka termasuk bilangan ganjil\")"
      ],
      "metadata": {
        "colab": {
          "base_uri": "https://localhost:8080/"
        },
        "id": "ZHjouShAGf_k",
        "outputId": "cef023cc-9bcf-44eb-b659-b3cc7ae5058e"
      },
      "execution_count": 81,
      "outputs": [
        {
          "output_type": "stream",
          "name": "stdout",
          "text": [
            "angka termasuk bilangan genap\n"
          ]
        }
      ]
    },
    {
      "cell_type": "code",
      "source": [
        "angka=5\n",
        "\n",
        "if(angka%2==0):\n",
        "    print(\"angka termasuk bilangan genap\")\n",
        "else:\n",
        "    print(\"angka termasuk bilangan ganjil\")"
      ],
      "metadata": {
        "colab": {
          "base_uri": "https://localhost:8080/"
        },
        "id": "SgcKfTr6GBC9",
        "outputId": "1f0e7e25-25b5-4031-972c-5443a7ded211"
      },
      "execution_count": 82,
      "outputs": [
        {
          "output_type": "stream",
          "name": "stdout",
          "text": [
            "angka termasuk bilangan ganjil\n"
          ]
        }
      ]
    },
    {
      "cell_type": "markdown",
      "source": [
        "While"
      ],
      "metadata": {
        "id": "jXIs33pmGmlU"
      }
    },
    {
      "cell_type": "code",
      "source": [
        "#nilai awal j=0\n",
        "j = 0\n",
        "\n",
        "#ketika j kurang dari 6 lakukan perulangan, jika tidak stop perulangan \n",
        "while j<6:\n",
        "\t#lakukan perintah ini ketika perulangan\n",
        "\tprint(\"Ini adalah perulangan ke -\",j)\n",
        "\t#setiap kali diakhir perulangan update nilai dengan ditamba 1.\n",
        "\tj=j+1"
      ],
      "metadata": {
        "colab": {
          "base_uri": "https://localhost:8080/"
        },
        "id": "myd8-CHiGepU",
        "outputId": "765940cf-42f4-4ec7-a027-ed6c7aec480b"
      },
      "execution_count": 83,
      "outputs": [
        {
          "output_type": "stream",
          "name": "stdout",
          "text": [
            "Ini adalah perulangan ke - 0\n",
            "Ini adalah perulangan ke - 1\n",
            "Ini adalah perulangan ke - 2\n",
            "Ini adalah perulangan ke - 3\n",
            "Ini adalah perulangan ke - 4\n",
            "Ini adalah perulangan ke - 5\n"
          ]
        }
      ]
    },
    {
      "cell_type": "markdown",
      "source": [
        "for(1)"
      ],
      "metadata": {
        "id": "4RWnaFBaI7IL"
      }
    },
    {
      "cell_type": "code",
      "source": [
        "for i in range (1,6): #perulangan for sebagai inisialisasi dari angka 1 hingga angka yang lebih kecil daripada 6.\n",
        "\tprint(\"Ini adalah perulangan ke -\",i) #perintah jika loopinh akan tetap berjalan"
      ],
      "metadata": {
        "colab": {
          "base_uri": "https://localhost:8080/"
        },
        "id": "-RJkMpTgIl3s",
        "outputId": "78167f79-b4bf-4afd-ce19-796814a2c309"
      },
      "execution_count": 84,
      "outputs": [
        {
          "output_type": "stream",
          "name": "stdout",
          "text": [
            "Ini adalah perulangan ke - 1\n",
            "Ini adalah perulangan ke - 2\n",
            "Ini adalah perulangan ke - 3\n",
            "Ini adalah perulangan ke - 4\n",
            "Ini adalah perulangan ke - 5\n"
          ]
        }
      ]
    },
    {
      "cell_type": "markdown",
      "source": [
        "for (2) with access element"
      ],
      "metadata": {
        "id": "-aLEgMKXJcVD"
      }
    },
    {
      "cell_type": "code",
      "source": [
        "count=[1,2,3,4,5,6,7,8,9,10,11]\n",
        "for i in count:\n",
        "    if(i%2==0):\n",
        "        print(\"Angka genap\",i)\n",
        "    else:\n",
        "         print(\"Angka ganjil\",i)"
      ],
      "metadata": {
        "colab": {
          "base_uri": "https://localhost:8080/"
        },
        "id": "cEsG8etmJPr9",
        "outputId": "ca31e03e-c5b9-4b92-ff67-2931eceff97c"
      },
      "execution_count": 85,
      "outputs": [
        {
          "output_type": "stream",
          "name": "stdout",
          "text": [
            "Angka ganjil 1\n",
            "Angka genap 2\n",
            "Angka ganjil 3\n",
            "Angka genap 4\n",
            "Angka ganjil 5\n",
            "Angka genap 6\n",
            "Angka ganjil 7\n",
            "Angka genap 8\n",
            "Angka ganjil 9\n",
            "Angka genap 10\n",
            "Angka ganjil 11\n"
          ]
        }
      ]
    },
    {
      "cell_type": "markdown",
      "source": [
        "Membuat fungsi sendiri"
      ],
      "metadata": {
        "id": "6rmnPDZZKUX4"
      }
    },
    {
      "cell_type": "code",
      "source": [
        "#Membuat Fungsi\n",
        "def salam():\n",
        "\tprint(\"Hello, Selamat Pagi\")\n",
        "\n",
        "##Pemanggilan Fungsi\n",
        "salam()"
      ],
      "metadata": {
        "colab": {
          "base_uri": "https://localhost:8080/"
        },
        "id": "0iXhv8YsJ7W8",
        "outputId": "4d54fedb-cd8a-4dd3-d1e8-4cbea118c36b"
      },
      "execution_count": 86,
      "outputs": [
        {
          "output_type": "stream",
          "name": "stdout",
          "text": [
            "Hello, Selamat Pagi\n"
          ]
        }
      ]
    },
    {
      "cell_type": "markdown",
      "source": [
        "Parameter pada fungsi"
      ],
      "metadata": {
        "id": "Kv64rb9_K47o"
      }
    },
    {
      "cell_type": "code",
      "source": [
        "def luas_segitiga(alas, tinggi): #alas dan tinggi merupakan parameter yang masuk\n",
        "\tluas = (alas*tinggi)/2\n",
        "\tprint(\"Luas segitiga: %f\"%luas);\n",
        "\t\n",
        "#Pemanggilan fungsi\n",
        "##4 dan 6 merupakan parameter yang diinputkan kedalam fungsi luas segitiga\n",
        "luas_segitiga(4,6)"
      ],
      "metadata": {
        "colab": {
          "base_uri": "https://localhost:8080/"
        },
        "id": "7_tW_quAKwMP",
        "outputId": "2700488a-dd4b-4cbc-eb86-063b2bc597db"
      },
      "execution_count": 87,
      "outputs": [
        {
          "output_type": "stream",
          "name": "stdout",
          "text": [
            "Luas segitiga: 12.000000\n"
          ]
        }
      ]
    },
    {
      "cell_type": "markdown",
      "source": [
        "Fungsi dengan Return Value"
      ],
      "metadata": {
        "id": "hry5Wv4hMAOa"
      }
    },
    {
      "cell_type": "code",
      "source": [
        "def luas_segitiga(alas, tinggi): #alas dan tinggi merupakan parameter yang masuk\n",
        "\tluas=(alas*tinggi)/2\n",
        "\treturn luas\n",
        "\n",
        "#Pemanggilan fungsi\n",
        "##4 dan 6 merupakan parameter yang diinputkan kedalam fungsi luas segitiga\n",
        "print(\"Luas segitiga: %d\" % luas_segitiga(4,6))"
      ],
      "metadata": {
        "colab": {
          "base_uri": "https://localhost:8080/"
        },
        "id": "_F-D56ZxL7Jz",
        "outputId": "dc02f435-ccb3-47ff-80f5-5766debbb147"
      },
      "execution_count": 88,
      "outputs": [
        {
          "output_type": "stream",
          "name": "stdout",
          "text": [
            "Luas segitiga: 12\n"
          ]
        }
      ]
    },
    {
      "cell_type": "markdown",
      "source": [
        "Import Package dan Menggunakan modul"
      ],
      "metadata": {
        "id": "gF-nf0MdNCfF"
      }
    },
    {
      "cell_type": "code",
      "source": [
        "import math\n",
        "print(\"Nilai pi adalah:\", math.pi) # math.pi merupakan sintak untuk memanggil fungsi pi"
      ],
      "metadata": {
        "colab": {
          "base_uri": "https://localhost:8080/"
        },
        "id": "lKQj7DBxM5WV",
        "outputId": "6a19e3b6-f0c2-4ba3-849f-b08ea085b54a"
      },
      "execution_count": 89,
      "outputs": [
        {
          "output_type": "stream",
          "name": "stdout",
          "text": [
            "Nilai pi adalah: 3.141592653589793\n"
          ]
        }
      ]
    },
    {
      "cell_type": "markdown",
      "source": [
        "Import dengan Module Rename atau Alias"
      ],
      "metadata": {
        "id": "tZcGYUnwNXp_"
      }
    },
    {
      "cell_type": "code",
      "source": [
        "import math as m #menggunakan m sebagai module rename atau alias\n",
        "print(\"Nilai pi adalah:\", m.pi) #m.pi merupakan sintak untuk memanggil f fungsi"
      ],
      "metadata": {
        "colab": {
          "base_uri": "https://localhost:8080/"
        },
        "id": "GX9VkDPkNMfW",
        "outputId": "417237a4-71d9-48d4-91b8-5428143a66ee"
      },
      "execution_count": 90,
      "outputs": [
        {
          "output_type": "stream",
          "name": "stdout",
          "text": [
            "Nilai pi adalah: 3.141592653589793\n"
          ]
        }
      ]
    },
    {
      "cell_type": "markdown",
      "source": [
        "Import Sebagian Fungsi"
      ],
      "metadata": {
        "id": "HY-s0UhQNtAz"
      }
    },
    {
      "cell_type": "code",
      "source": [
        "from math import pi\n",
        "print(\"Nilai pi adalah\", pi)"
      ],
      "metadata": {
        "colab": {
          "base_uri": "https://localhost:8080/"
        },
        "id": "a1FeD6-jNpn3",
        "outputId": "5d5be126-699f-4ff6-fb0d-feb407255b54"
      },
      "execution_count": 91,
      "outputs": [
        {
          "output_type": "stream",
          "name": "stdout",
          "text": [
            "Nilai pi adalah 3.141592653589793\n"
          ]
        }
      ]
    },
    {
      "cell_type": "markdown",
      "source": [
        "\n",
        "Import Semua isi Moduls"
      ],
      "metadata": {
        "id": "twmVW2l9OBav"
      }
    },
    {
      "cell_type": "code",
      "source": [
        "from math import *\n",
        "print(\"Nilai e adalah:\",e)"
      ],
      "metadata": {
        "colab": {
          "base_uri": "https://localhost:8080/"
        },
        "id": "Gfu7J24gN2lS",
        "outputId": "ebc7251f-25d3-4144-a156-743cf08db2e0"
      },
      "execution_count": 92,
      "outputs": [
        {
          "output_type": "stream",
          "name": "stdout",
          "text": [
            "Nilai e adalah: 2.718281828459045\n"
          ]
        }
      ]
    },
    {
      "cell_type": "markdown",
      "source": [
        "Membaca Teks File (CSV)"
      ],
      "metadata": {
        "id": "-vBMOCZWOEkf"
      }
    },
    {
      "cell_type": "code",
      "source": [
        "import requests\n",
        "from contextlib import closing\n",
        "import csv\n",
        "\n",
        "#tentukan lokasi file, nama file, dan inisialisasi csv\n",
        "url = 'https://storage.googleapis.com/dqlab-dataset/penduduk_gender_head.csv'\n",
        "\n",
        "#baca file csv secara streaming\n",
        "with closing(requests.get(url, stream=True)) as r:\n",
        "\tf=(line.decode('utf-8')for line in r.iter_lines())\n",
        "\t\n",
        "\treader = csv.reader(f, delimiter=',')\n",
        "\t\n",
        "\t#membaca baris per baris\n",
        "\tfor row in reader :\n",
        "\t\tprint(row)"
      ],
      "metadata": {
        "colab": {
          "base_uri": "https://localhost:8080/"
        },
        "id": "ccMuryP6OAfV",
        "outputId": "48e0eaf9-11d7-4c25-fec1-3864dfb499e4"
      },
      "execution_count": 93,
      "outputs": [
        {
          "output_type": "stream",
          "name": "stdout",
          "text": [
            "['TAHUN', 'NAMA PROVINSI', 'NAMA KABUPATEN/KOTA', 'NAMA KECAMATAN', 'NAMA KELURAHAN', 'LAKI-LAKI WNI', 'PEREMPUAN WNI', 'LAKI-LAKI WNA', 'PEREMPUAN WNA', '', '', '', '', '', '', '', '', '']\n",
            "['2013', 'PROVINSI DKI JAKARTA', 'JAKARTA PUSAT', 'GAMBIR', 'GAMBIR', '1790', '1690', '1', '2', '', '', '', '', '', '', '', '', '']\n",
            "['2013', 'PROVINSI DKI JAKARTA', 'JAKARTA PUSAT', 'GAMBIR', 'CIDENG', '9159', '9206', '5', '6', '', '', '', '', '', '', '', '', '']\n",
            "['2013', 'PROVINSI DKI JAKARTA', 'JAKARTA PUSAT', 'GAMBIR', 'PETOJO UTARA', '10811', '10436', '10', '8', '', '', '', '', '', '', '', '', '']\n",
            "['2013', 'PROVINSI DKI JAKARTA', 'JAKARTA PUSAT', 'GAMBIR', 'PETOJO SELATAN', '8455', '8023', '5', '7', '', '', '', '', '', '', '', '', '']\n",
            "['2013', 'PROVINSI DKI JAKARTA', 'JAKARTA PUSAT', 'GAMBIR', 'KEBON KELAPA', '6300', '6078', '6', '10', '', '', '', '', '', '', '', '', '']\n",
            "['2013', 'PROVINSI DKI JAKARTA', 'JAKARTA PUSAT', 'GAMBIR', 'DURI PULO', '13056', '12588', '2', '6', '', '', '', '', '', '', '', '', '']\n",
            "['2013', 'PROVINSI DKI JAKARTA', 'JAKARTA PUSAT', 'SAWAH BESAR', 'PASAR BARU', '7557', '7552', '34', '55', '', '', '', '', '', '', '', '', '']\n",
            "['2013', 'PROVINSI DKI JAKARTA', 'JAKARTA PUSAT', 'SAWAH BESAR', 'KARANG ANYAR', '16327', '15859', '4', '2', '', '', '', '', '', '', '', '', '']\n",
            "['2013', 'PROVINSI DKI JAKARTA', 'JAKARTA PUSAT', 'SAWAH BESAR', 'KARTINI', '13610', '13808', '3', '3', '', '', '', '', '', '', '', '', '']\n",
            "['2013', 'PROVINSI DKI JAKARTA', 'JAKARTA PUSAT', 'SAWAH BESAR', 'GUNUNG SAHARI UTARA', '9734', '9889', '15', '30', '', '', '', '', '', '', '', '', '']\n",
            "['2013', 'PROVINSI DKI JAKARTA', 'JAKARTA PUSAT', 'SAWAH BESAR', 'MANGGA DUA SELATAN', '17269', '16458', '42', '33', '', '', '', '', '', '', '', '', '']\n",
            "['2013', 'PROVINSI DKI JAKARTA', 'JAKARTA PUSAT', 'KEMAYORAN', 'KEMAYORAN', '12365', '11932', '6', '8', '', '', '', '', '', '', '', '', '']\n",
            "['2013', 'PROVINSI DKI JAKARTA', 'JAKARTA PUSAT', 'KEMAYORAN', 'KEBON KOSONG', '15933', '15665', '33', '25', '', '', '', '', '', '', '', '', '']\n",
            "['2013', 'PROVINSI DKI JAKARTA', 'JAKARTA PUSAT', 'KEMAYORAN', 'HARAPAN MULIA', '13523', '13049', '2', '3', '', '', '', '', '', '', '', '', '']\n",
            "['2013', 'PROVINSI DKI JAKARTA', 'JAKARTA PUSAT', 'KEMAYORAN', 'SERDANG', '17284', '17020', '1', '1', '', '', '', '', '', '', '', '', '']\n",
            "['2013', 'PROVINSI DKI JAKARTA', 'JAKARTA PUSAT', 'KEMAYORAN', 'GUNUNG SAHARI SELATAN', '11730', '11487', '13', '15', '', '', '', '', '', '', '', '', '']\n",
            "['2013', 'PROVINSI DKI JAKARTA', 'JAKARTA PUSAT', 'KEMAYORAN', 'CEMPAKA BARU', '19103', '18601', '', '3', '', '', '', '', '', '', '', '', '']\n",
            "['2013', 'PROVINSI DKI JAKARTA', 'JAKARTA PUSAT', 'KEMAYORAN', 'SUMUR BATU', '13441', '13288', '20', '13', '', '', '', '', '', '', '', '', '']\n",
            "['2013', 'PROVINSI DKI JAKARTA', 'JAKARTA PUSAT', 'KEMAYORAN', 'UTAN PANJANG', '17125', '16351', '4', '3', '', '', '', '', '', '', '', '', '']\n",
            "['2013', 'PROVINSI DKI JAKARTA', 'JAKARTA PUSAT', 'SENEN', 'SENEN', '4236', '3975', '10', '7', '', '', '', '', '', '', '', '', '']\n",
            "['2013', 'PROVINSI DKI JAKARTA', 'JAKARTA PUSAT', 'SENEN', 'KENARI', '5445', '5252', '2', '', '', '', '', '', '', '', '', '', '']\n",
            "['2013', 'PROVINSI DKI JAKARTA', 'JAKARTA PUSAT', 'SENEN', 'PASEBAN', '13787', '13477', '', '', '', '', '', '', '', '', '', '', '']\n",
            "['2013', 'PROVINSI DKI JAKARTA', 'JAKARTA PUSAT', 'SENEN', 'KRAMAT', '17482', '16331', '2', '2', '', '', '', '', '', '', '', '', '']\n",
            "['2013', 'PROVINSI DKI JAKARTA', 'JAKARTA PUSAT', 'SENEN', 'KWITANG', '9176', '9148', '1', '1', '', '', '', '', '', '', '', '', '']\n",
            "['2013', 'PROVINSI DKI JAKARTA', 'JAKARTA PUSAT', 'SENEN', 'BUNGUR', '11200', '10849', '4', '3', '', '', '', '', '', '', '', '', '']\n",
            "['2013', 'PROVINSI DKI JAKARTA', 'JAKARTA PUSAT', 'CEMPAKA PUTIH', 'CEMPAKA PUTIH TIMUR', '13630', '13686', '24', '24', '', '', '', '', '', '', '', '', '']\n",
            "['2013', 'PROVINSI DKI JAKARTA', 'JAKARTA PUSAT', 'CEMPAKA PUTIH', 'CEMPAKA PUTIH BARAT', '20029', '19681', '12', '2', '', '', '', '', '', '', '', '', '']\n",
            "['2013', 'PROVINSI DKI JAKARTA', 'JAKARTA PUSAT', 'CEMPAKA PUTIH', 'RAWASARI', '12462', '12465', '1', '3', '', '', '', '', '', '', '', '', '']\n",
            "['2013', 'PROVINSI DKI JAKARTA', 'JAKARTA PUSAT', 'MENTENG', 'MENTENG', '14576', '14610', '7', '10', '', '', '', '', '', '', '', '', '']\n",
            "['2013', 'PROVINSI DKI JAKARTA', 'JAKARTA PUSAT', 'MENTENG', 'PEGANGSAAN', '13392', '13214', '2', '', '', '', '', '', '', '', '', '', '']\n",
            "['2013', 'PROVINSI DKI JAKARTA', 'JAKARTA PUSAT', 'MENTENG', 'CIKINI', '4825', '4772', '5', '1', '', '', '', '', '', '', '', '', '']\n",
            "['2013', 'PROVINSI DKI JAKARTA', 'JAKARTA PUSAT', 'MENTENG', 'GONDANGDIA', '2196', '2443', '11', '13', '', '', '', '', '', '', '', '', '']\n",
            "['2013', 'PROVINSI DKI JAKARTA', 'JAKARTA PUSAT', 'MENTENG', 'KEBON SIRIH', '7976', '7439', '2', '2', '', '', '', '', '', '', '', '', '']\n",
            "['2013', 'PROVINSI DKI JAKARTA', 'JAKARTA PUSAT', 'TANAH ABANG', 'GELORA', '1865', '1883', '6', '2', '', '', '', '', '', '', '', '', '']\n",
            "['2013', 'PROVINSI DKI JAKARTA', 'JAKARTA PUSAT', 'TANAH ABANG', 'BENDUNGAN HILIR', '12713', '12582', '11', '2', '', '', '', '', '', '', '', '', '']\n",
            "['2013', 'PROVINSI DKI JAKARTA', 'JAKARTA PUSAT', 'TANAH ABANG', 'KARET TENGSIN', '11002', '10271', '10', '3', '', '', '', '', '', '', '', '', '']\n",
            "['2013', 'PROVINSI DKI JAKARTA', 'JAKARTA PUSAT', 'TANAH ABANG', 'PETAMBURAN', '20112', '18794', '17', '13', '', '', '', '', '', '', '', '', '']\n",
            "['2013', 'PROVINSI DKI JAKARTA', 'JAKARTA PUSAT', 'TANAH ABANG', 'KEBON MELATI', '19826', '18672', '8', '4', '', '', '', '', '', '', '', '', '']\n",
            "['2013', 'PROVINSI DKI JAKARTA', 'JAKARTA PUSAT', 'TANAH ABANG', 'KEBON KACANG', '12873', '12357', '3', '4', '', '', '', '', '', '', '', '', '']\n",
            "['2013', 'PROVINSI DKI JAKARTA', 'JAKARTA PUSAT', 'TANAH ABANG', 'KAMPUNG BALI', '7348', '7205', '3', '1', '', '', '', '', '', '', '', '', '']\n",
            "['2013', 'PROVINSI DKI JAKARTA', 'JAKARTA PUSAT', 'JOHAR BARU', 'JOHAR BARU', '21016', '20953', '2', '', '', '', '', '', '', '', '', '', '']\n",
            "['2013', 'PROVINSI DKI JAKARTA', 'JAKARTA PUSAT', 'JOHAR BARU', 'KAMPUNG RAWA', '13337', '12499', '1', '', '', '', '', '', '', '', '', '', '']\n",
            "['2013', 'PROVINSI DKI JAKARTA', 'JAKARTA PUSAT', 'JOHAR BARU', 'GALUR', '11077', '10259', '', '', '', '', '', '', '', '', '', '', '']\n",
            "['2013', 'PROVINSI DKI JAKARTA', 'JAKARTA PUSAT', 'JOHAR BARU', 'TANAH TINGGI', '22680', '21450', '', '', '', '', '', '', '', '', '', '', '']\n"
          ]
        }
      ]
    },
    {
      "cell_type": "markdown",
      "source": [
        "Membaca Teks File (CSV) dari local computer"
      ],
      "metadata": {
        "id": "ymU74ZPNQ5E7"
      }
    },
    {
      "cell_type": "code",
      "source": [
        "import csv\n",
        "\n",
        "# tentukan lokasi file, nama file, dan inisialisasi csv\n",
        "f = open('/content/Data_Negara_HELP (1).csv', 'r')\n",
        "reader=csv.reader(f)\n",
        "\n",
        "#membaca baris per baris\n",
        "for row in reader:\n",
        "\tprint(row)\n",
        "\t\n",
        "#menutup file csv\n",
        "f.close()"
      ],
      "metadata": {
        "colab": {
          "base_uri": "https://localhost:8080/"
        },
        "id": "u260INRyPPpe",
        "outputId": "a554bf8e-febd-4688-ae01-23e817a9fbff"
      },
      "execution_count": 94,
      "outputs": [
        {
          "output_type": "stream",
          "name": "stdout",
          "text": [
            "['Negara', 'Kematian_anak', 'Ekspor', 'Kesehatan', 'Impor', 'Pendapatan', 'Inflasi', 'Harapan_hidup', 'Jumlah_fertiliti', 'GDPperkapita']\n",
            "['Afghanistan', '90.2', '10', '7.58', '44.9', '1610', '9.44', '56.2', '5.82', '553']\n",
            "['Albania', '16.6', '28', '6.55', '48.6', '9930', '4.49', '76.3', '1.65', '4090']\n",
            "['Algeria', '27.3', '38.4', '4.17', '31.4', '12900', '16.1', '76.5', '2.89', '4460']\n",
            "['Angola', '119', '62.3', '2.85', '42.9', '5900', '22.4', '60.1', '6.16', '3530']\n",
            "['Antigua and Barbuda', '10.3', '45.5', '6.03', '58.9', '19100', '1.44', '76.8', '2.13', '12200']\n",
            "['Argentina', '14.5', '18.9', '8.1', '16', '18700', '20.9', '75.8', '2.37', '10300']\n",
            "['Armenia', '18.1', '20.8', '4.4', '45.3', '6700', '7.77', '73.3', '1.69', '3220']\n",
            "['Australia', '4.8', '19.8', '8.73', '20.9', '41400', '1.16', '82', '1.93', '51900']\n",
            "['Austria', '4.3', '51.3', '11', '47.8', '43200', '0.873', '80.5', '1.44', '46900']\n",
            "['Azerbaijan', '39.2', '54.3', '5.88', '20.7', '16000', '13.8', '69.1', '1.92', '5840']\n",
            "['Bahamas', '13.8', '35', '7.89', '43.7', '22900', '-0.393', '73.8', '1.86', '28000']\n",
            "['Bahrain', '8.6', '69.5', '4.97', '50.9', '41100', '7.44', '76', '2.16', '20700']\n",
            "['Bangladesh', '49.4', '16', '3.52', '21.8', '2440', '7.14', '70.4', '2.33', '758']\n",
            "['Barbados', '14.2', '39.5', '7.97', '48.7', '15300', '0.321', '76.7', '1.78', '16000']\n",
            "['Belarus', '5.5', '51.4', '5.61', '64.5', '16200', '15.1', '70.4', '1.49', '6030']\n",
            "['Belgium', '4.5', '76.4', '10.7', '74.7', '41100', '1.88', '80', '1.86', '44400']\n",
            "['Belize', '18.8', '58.2', '5.2', '57.5', '7880', '1.14', '71.4', '2.71', '4340']\n",
            "['Benin', '111', '23.8', '4.1', '37.2', '1820', '0.885', '61.8', '5.36', '758']\n",
            "['Bhutan', '42.7', '42.5', '5.2', '70.7', '6420', '5.99', '72.1', '2.38', '2180']\n",
            "['Bolivia', '46.6', '41.2', '4.84', '34.3', '5410', '8.78', '71.6', '3.2', '1980']\n",
            "['Bosnia and Herzegovina', '6.9', '29.7', '11.1', '51.3', '9720', '1.4', '76.8', '1.31', '4610']\n",
            "['Botswana', '52.5', '43.6', '8.3', '51.3', '13300', '8.92', '57.1', '2.88', '6350']\n",
            "['Brazil', '19.8', '10.7', '9.01', '11.8', '14500', '8.41', '74.2', '1.8', '11200']\n",
            "['Brunei', '10.5', '67.4', '2.84', '28', '80600', '16.7', '77.1', '1.84', '35300']\n",
            "['Bulgaria', '10.8', '50.2', '6.87', '53', '15300', '1.11', '73.9', '1.57', '6840']\n",
            "['Burkina Faso', '116', '19.2', '6.74', '29.6', '1430', '6.81', '57.9', '5.87', '575']\n",
            "['Burundi', '93.6', '8.92', '11.6', '39.2', '764', '12.3', '57.7', '6.26', '231']\n",
            "['Cambodia', '44.4', '54.1', '5.68', '59.5', '2520', '3.12', '66.1', '2.88', '786']\n",
            "['Cameroon', '108', '22.2', '5.13', '27', '2660', '1.91', '57.3', '5.11', '1310']\n",
            "['Canada', '5.6', '29.1', '11.3', '31', '40700', '2.87', '81.3', '1.63', '47400']\n",
            "['Cape Verde', '26.5', '32.7', '4.09', '61.8', '5830', '0.505', '72.5', '2.67', '3310']\n",
            "['Central African Republic', '149', '11.8', '3.98', '26.5', '888', '2.01', '47.5', '5.21', '446']\n",
            "['Chad', '150', '36.8', '4.53', '43.5', '1930', '6.39', '56.5', '6.59', '897']\n",
            "['Chile', '8.7', '37.7', '7.96', '31.3', '19400', '8.96', '79.1', '1.88', '12900']\n",
            "['China', '15.7', '26.3', '5.07', '22.6', '9530', '6.94', '74.6', '1.59', '4560']\n",
            "['Colombia', '18.6', '15.9', '7.59', '17.8', '10900', '3.86', '76.4', '2.01', '6250']\n",
            "['Comoros', '88.2', '16.5', '4.51', '51.7', '1410', '3.87', '65.9', '4.75', '769']\n",
            "['Congo, Dem. Rep.', '116', '41.1', '7.91', '49.6', '609', '20.8', '57.5', '6.54', '334']\n",
            "['Congo, Rep.', '63.9', '85.1', '2.46', '54.7', '5190', '20.7', '60.4', '4.95', '2740']\n",
            "['Costa Rica', '10.2', '33.2', '10.9', '35', '13000', '6.57', '80.4', '1.92', '8200']\n",
            "[\"Cote d'Ivoire\", '111', '50.6', '5.3', '43.3', '2690', '5.39', '56.3', '5.27', '1220']\n",
            "['Croatia', '5.5', '37.6', '7.76', '38.1', '20100', '0.821', '76.3', '1.55', '13500']\n",
            "['Cyprus', '3.6', '50.2', '5.97', '57.5', '33900', '2.01', '79.9', '1.42', '30800']\n",
            "['Czech Republic', '3.4', '66', '7.88', '62.9', '28300', '-1.43', '77.5', '1.51', '19800']\n",
            "['Denmark', '4.1', '50.5', '11.4', '43.6', '44000', '3.22', '79.5', '1.87', '58000']\n",
            "['Dominican Republic', '34.4', '22.7', '6.22', '33.3', '11100', '5.44', '74.6', '2.6', '5450']\n",
            "['Ecuador', '25.1', '27.9', '8.06', '32.4', '9350', '7.47', '76.7', '2.66', '4660']\n",
            "['Egypt', '29.1', '21.3', '4.66', '26.6', '9860', '10.1', '70.5', '3.19', '2600']\n",
            "['El Salvador', '19.2', '26.9', '6.91', '46.6', '7300', '2.65', '74.1', '2.27', '2990']\n",
            "['Equatorial Guinea', '111', '85.8', '4.48', '58.9', '33700', '24.9', '60.9', '5.21', '17100']\n",
            "['Eritrea', '55.2', '4.79', '2.66', '23.3', '1420', '11.6', '61.7', '4.61', '482']\n",
            "['Estonia', '4.5', '75.1', '6.03', '68.7', '22700', '1.74', '76', '1.72', '14600']\n",
            "['Fiji', '24.1', '57.8', '4.86', '63.9', '7350', '4.23', '65.3', '2.67', '3650']\n",
            "['Finland', '3', '38.7', '8.95', '37.4', '39800', '0.351', '80', '1.87', '46200']\n",
            "['France', '4.2', '26.8', '11.9', '28.1', '36900', '1.05', '81.4', '2.03', '40600']\n",
            "['Gabon', '63.7', '57.7', '3.5', '18.9', '15400', '16.6', '62.9', '4.08', '8750']\n",
            "['Gambia', '80.3', '23.8', '5.69', '42.7', '1660', '4.3', '65.5', '5.71', '562']\n",
            "['Georgia', '16.5', '35', '10.1', '52.8', '6730', '8.55', '72.8', '1.92', '2960']\n",
            "['Germany', '4.2', '42.3', '11.6', '37.1', '40400', '0.758', '80.1', '1.39', '41800']\n",
            "['Ghana', '74.7', '29.5', '5.22', '45.9', '3060', '16.6', '62.2', '4.27', '1310']\n",
            "['Greece', '3.9', '22.1', '10.3', '30.7', '28700', '0.673', '80.4', '1.48', '26900']\n",
            "['Grenada', '14.6', '23.8', '5.86', '49.2', '11200', '0.48', '71.3', '2.24', '7370']\n",
            "['Guatemala', '35.4', '25.8', '6.85', '36.3', '6710', '5.14', '71.3', '3.38', '2830']\n",
            "['Guinea', '109', '30.3', '4.93', '43.2', '1190', '16.1', '58', '5.34', '648']\n",
            "['Guinea-Bissau', '114', '14.9', '8.5', '35.2', '1390', '2.97', '55.6', '5.05', '547']\n",
            "['Guyana', '37.6', '51.4', '5.38', '79.1', '5840', '5.73', '65.5', '2.65', '3040']\n",
            "['Haiti', '208', '15.3', '6.91', '64.7', '1500', '5.45', '32.1', '3.33', '662']\n",
            "['Hungary', '6', '81.8', '7.33', '76.5', '22300', '2.33', '74.5', '1.25', '13100']\n",
            "['Iceland', '2.6', '53.4', '9.4', '43.3', '38800', '5.47', '82', '2.2', '41900']\n",
            "['India', '58.8', '22.6', '4.05', '27.1', '4410', '8.98', '66.2', '2.6', '1350']\n",
            "['Indonesia', '33.3', '24.3', '2.61', '22.4', '8430', '15.3', '69.9', '2.48', '3110']\n",
            "['Iran', '19.3', '24.4', '5.6', '19.4', '17400', '15.9', '74.5', '1.76', '6530']\n",
            "['Iraq', '36.9', '39.4', '8.41', '34.1', '12700', '16.6', '67.2', '4.56', '4500']\n",
            "['Ireland', '4.2', '103', '9.19', '86.5', '45700', '-3.22', '80.4', '2.05', '48700']\n",
            "['Israel', '4.6', '35', '7.63', '32.9', '29600', '1.77', '81.4', '3.03', '30600']\n",
            "['Italy', '4', '25.2', '9.53', '27.2', '36200', '0.319', '81.7', '1.46', '35800']\n",
            "['Jamaica', '18.1', '31.3', '4.81', '49.6', '8000', '9.81', '74.7', '2.17', '4680']\n",
            "['Japan', '3.2', '15', '9.49', '13.6', '35800', '-1.9', '82.8', '1.39', '44500']\n",
            "['Jordan', '21.1', '48.3', '8.04', '69', '9470', '8.43', '75.8', '3.66', '3680']\n",
            "['Kazakhstan', '21.5', '44.2', '4.29', '29.9', '20100', '19.5', '68.4', '2.6', '9070']\n",
            "['Kenya', '62.2', '20.7', '4.75', '33.6', '2480', '2.09', '62.8', '4.37', '967']\n",
            "['Kiribati', '62.7', '13.3', '11.3', '79.9', '1730', '1.52', '60.7', '3.84', '1490']\n",
            "['Kuwait', '10.8', '66.7', '2.63', '30.4', '75200', '11.2', '78.2', '2.21', '38500']\n",
            "['Kyrgyz Republic', '29.6', '51.6', '6.18', '81.7', '2790', '10', '68.5', '3.1', '880']\n",
            "['Lao', '78.9', '35.4', '4.47', '49.3', '3980', '9.2', '63.8', '3.15', '1140']\n",
            "['Latvia', '7.8', '53.7', '6.68', '55.1', '18300', '-0.812', '73.1', '1.36', '11300']\n",
            "['Lebanon', '10.3', '35.8', '7.03', '60.2', '16300', '0.238', '79.8', '1.61', '8860']\n",
            "['Lesotho', '99.7', '39.4', '11.1', '101', '2380', '4.15', '46.5', '3.3', '1170']\n",
            "['Liberia', '89.3', '19.1', '11.8', '92.6', '700', '5.47', '60.8', '5.02', '327']\n",
            "['Libya', '16.6', '65.6', '3.88', '42.1', '29600', '14.2', '76.1', '2.41', '12100']\n",
            "['Lithuania', '6.1', '65.3', '7.04', '67.2', '21100', '2.38', '73.2', '1.5', '12000']\n",
            "['Luxembourg', '2.8', '175', '7.77', '142', '91700', '3.62', '81.3', '1.63', '105000']\n",
            "['Macedonia, FYR', '10.4', '39.8', '7.09', '58.1', '11400', '2.04', '74', '1.47', '4540']\n",
            "['Madagascar', '62.2', '25', '3.77', '43', '1390', '8.79', '60.8', '4.6', '413']\n",
            "['Malawi', '90.5', '22.8', '6.59', '34.9', '1030', '12.1', '53.1', '5.31', '459']\n",
            "['Malaysia', '7.9', '86.9', '4.39', '71', '21100', '7.27', '74.5', '2.15', '9070']\n",
            "['Maldives', '13.2', '77.6', '6.33', '65.4', '10500', '2.88', '77.9', '2.23', '7100']\n",
            "['Mali', '137', '22.8', '4.98', '35.1', '1870', '4.37', '59.5', '6.55', '708']\n",
            "['Malta', '6.8', '153', '8.65', '154', '28300', '3.83', '80.3', '1.36', '21100']\n",
            "['Mauritania', '97.4', '50.7', '4.41', '61.2', '3320', '18.9', '68.2', '4.98', '1200']\n",
            "['Mauritius', '15', '51.2', '6', '62.2', '15900', '1.13', '73.4', '1.57', '8000']\n",
            "['Micronesia, Fed. Sts.', '40', '23.5', '14.2', '81', '3340', '3.8', '65.4', '3.46', '2860']\n",
            "['Moldova', '17.2', '39.2', '11.7', '78.5', '3910', '11.1', '69.7', '1.27', '1630']\n",
            "['Mongolia', '26.1', '46.7', '5.44', '56.7', '7710', '39.2', '66.2', '2.64', '2650']\n",
            "['Montenegro', '6.8', '37', '9.11', '62.7', '14000', '1.6', '76.4', '1.77', '6680']\n",
            "['Morocco', '33.5', '32.2', '5.2', '43', '6440', '0.976', '73.5', '2.58', '2830']\n",
            "['Mozambique', '101', '31.5', '5.21', '46.2', '918', '7.64', '54.5', '5.56', '419']\n",
            "['Myanmar', '64.4', '0.109', '1.97', '0.0659', '3720', '7.04', '66.8', '2.41', '988']\n",
            "['Namibia', '56', '47.8', '6.78', '60.7', '8460', '3.56', '58.6', '3.6', '5190']\n",
            "['Nepal', '47', '9.58', '5.25', '36.4', '1990', '15.1', '68.3', '2.61', '592']\n",
            "['Netherlands', '4.5', '72', '11.9', '63.6', '45500', '0.848', '80.7', '1.79', '50300']\n",
            "['New Zealand', '6.2', '30.3', '10.1', '28', '32300', '3.73', '80.9', '2.17', '33700']\n",
            "['Niger', '123', '22.2', '5.16', '49.1', '814', '2.55', '58.8', '7.49', '348']\n",
            "['Nigeria', '130', '25.3', '5.07', '17.4', '5150', '104', '60.5', '5.84', '2330']\n",
            "['Norway', '3.2', '39.7', '9.48', '28.5', '62300', '5.95', '81', '1.95', '87800']\n",
            "['Oman', '11.7', '65.7', '2.77', '41.2', '45300', '15.6', '76.1', '2.9', '19300']\n",
            "['Pakistan', '92.1', '13.5', '2.2', '19.4', '4280', '10.9', '65.3', '3.85', '1040']\n",
            "['Panama', '19.7', '70', '8.1', '78.2', '15400', '2.59', '77.8', '2.62', '8080']\n",
            "['Paraguay', '24.1', '55.1', '5.87', '51.5', '7290', '6.1', '74.1', '2.73', '3230']\n",
            "['Peru', '20.3', '27.8', '5.08', '23.8', '9960', '5.71', '77.9', '2.54', '5020']\n",
            "['Philippines', '31.9', '34.8', '3.61', '36.6', '5600', '4.22', '69', '3.16', '2130']\n",
            "['Poland', '6', '40.1', '7.46', '42.1', '21800', '1.66', '76.3', '1.41', '12600']\n",
            "['Portugal', '3.9', '29.9', '11', '37.4', '27200', '0.643', '79.8', '1.39', '22500']\n",
            "['Qatar', '9', '62.3', '1.81', '23.8', '125000', '6.98', '79.5', '2.07', '70300']\n",
            "['Romania', '11.5', '32.6', '5.58', '38.8', '17800', '3.53', '73.7', '1.59', '8230']\n",
            "['Russia', '10', '29.2', '5.08', '21.1', '23100', '14.2', '69.2', '1.57', '10700']\n",
            "['Rwanda', '63.6', '12', '10.5', '30', '1350', '2.61', '64.6', '4.51', '563']\n",
            "['Samoa', '18.9', '29.2', '6.47', '53.1', '5400', '1.72', '71.5', '4.34', '3450']\n",
            "['Saudi Arabia', '15.7', '49.6', '4.29', '33', '45400', '17.2', '75.1', '2.96', '19300']\n",
            "['Senegal', '66.8', '24.9', '5.66', '40.3', '2180', '1.85', '64', '5.06', '1000']\n",
            "['Serbia', '7.6', '32.9', '10.4', '47.9', '12700', '5.88', '74.7', '1.4', '5410']\n",
            "['Seychelles', '14.4', '93.8', '3.4', '108', '20400', '-4.21', '73.4', '2.17', '10800']\n",
            "['Sierra Leone', '160', '16.8', '13.1', '34.5', '1220', '17.2', '55', '5.2', '399']\n",
            "['Singapore', '2.8', '200', '3.96', '174', '72100', '-0.046', '82.7', '1.15', '46600']\n",
            "['Slovak Republic', '7', '76.3', '8.79', '77.8', '25200', '0.485', '75.5', '1.43', '16600']\n",
            "['Slovenia', '3.2', '64.3', '9.41', '62.9', '28700', '-0.987', '79.5', '1.57', '23400']\n",
            "['Solomon Islands', '28.1', '49.3', '8.55', '81.2', '1780', '6.81', '61.7', '4.24', '1290']\n",
            "['South Africa', '53.7', '28.6', '8.94', '27.4', '12000', '6.35', '54.3', '2.59', '7280']\n",
            "['South Korea', '4.1', '49.4', '6.93', '46.2', '30400', '3.16', '80.1', '1.23', '22100']\n",
            "['Spain', '3.8', '25.5', '9.54', '26.8', '32500', '0.16', '81.9', '1.37', '30700']\n",
            "['Sri Lanka', '11.2', '19.6', '2.94', '26.8', '8560', '22.8', '74.4', '2.2', '2810']\n",
            "['St. Vincent and the Grenadines', '20.7', '26.9', '4.47', '57.1', '9920', '4.44', '71.6', '2.07', '6230']\n",
            "['Sudan', '76.7', '19.7', '6.32', '17.2', '3370', '19.6', '66.3', '4.88', '1480']\n",
            "['Suriname', '24.1', '52.5', '7.01', '38.4', '14200', '7.2', '70.3', '2.52', '8300']\n",
            "['Sweden', '3', '46.2', '9.63', '40.7', '42900', '0.991', '81.5', '1.98', '52100']\n",
            "['Switzerland', '4.5', '64', '11.5', '53.3', '55500', '0.317', '82.2', '1.52', '74600']\n",
            "['Tajikistan', '52.4', '14.9', '5.98', '58.6', '2110', '12.5', '69.6', '3.51', '738']\n",
            "['Tanzania', '71.9', '18.7', '6.01', '29.1', '2090', '9.25', '59.3', '5.43', '702']\n",
            "['Thailand', '14.9', '66.5', '3.88', '60.8', '13500', '4.08', '76.6', '1.55', '5080']\n",
            "['Timor-Leste', '62.6', '2.2', '9.12', '27.8', '1850', '26.5', '71.1', '6.23', '3600']\n",
            "['Togo', '90.3', '40.2', '7.65', '57.3', '1210', '1.18', '58.7', '4.87', '488']\n",
            "['Tonga', '17.4', '12.4', '5.07', '60.3', '4980', '3.68', '69.9', '3.91', '3550']\n",
            "['Tunisia', '17.4', '50.5', '6.21', '55.3', '10400', '3.82', '76.9', '2.14', '4140']\n",
            "['Turkey', '19.1', '20.4', '6.74', '25.5', '18000', '7.01', '78.2', '2.15', '10700']\n",
            "['Turkmenistan', '62', '76.3', '2.5', '44.5', '9940', '2.31', '67.9', '2.83', '4440']\n",
            "['Uganda', '81', '17.1', '9.01', '28.6', '1540', '10.6', '56.8', '6.15', '595']\n",
            "['Ukraine', '11.7', '47.1', '7.72', '51.1', '7820', '13.4', '70.4', '1.44', '2970']\n",
            "['United Arab Emirates', '8.6', '77.7', '3.66', '63.6', '57600', '12.5', '76.5', '1.87', '35000']\n",
            "['United Kingdom', '5.2', '28.2', '9.64', '30.8', '36200', '1.57', '80.3', '1.92', '38900']\n",
            "['United States', '7.3', '12.4', '17.9', '15.8', '49400', '1.22', '78.7', '1.93', '48400']\n",
            "['Uruguay', '10.6', '26.3', '8.35', '25.4', '17100', '4.91', '76.4', '2.08', '11900']\n",
            "['Uzbekistan', '36.3', '31.7', '5.81', '28.5', '4240', '16.5', '68.8', '2.34', '1380']\n",
            "['Vanuatu', '29.2', '46.6', '5.25', '52.7', '2950', '2.62', '63', '3.5', '2970']\n",
            "['Venezuela', '17.1', '28.5', '4.91', '17.6', '16500', '45.9', '75.4', '2.47', '13500']\n",
            "['Vietnam', '23.3', '72', '6.84', '80.2', '4490', '12.1', '73.1', '1.95', '1310']\n",
            "['Yemen', '56.3', '30', '5.18', '34.4', '4480', '23.6', '67.5', '4.67', '1310']\n",
            "['Zambia', '83.1', '37', '5.89', '30.9', '3280', '14', '52', '5.4', '1460']\n"
          ]
        }
      ]
    },
    {
      "cell_type": "markdown",
      "source": [
        "Membaca file CSV dengan menggunakan PANDAS"
      ],
      "metadata": {
        "id": "leFu34ZjRfjh"
      }
    },
    {
      "cell_type": "code",
      "source": [
        "import pandas as pd\n",
        "pd.set_option(\"display.max_columns\",50)\n",
        "\n",
        "table = pd.read_csv(\"https://storage.googleapis.com/dqlab-dataset/penduduk_gender_head.csv\")\n",
        "table.head()\n",
        "print(table)"
      ],
      "metadata": {
        "colab": {
          "base_uri": "https://localhost:8080/"
        },
        "id": "j4lAMxs8Q3Rv",
        "outputId": "14e74004-31a4-495e-ca5c-bccdf8bc8f6c"
      },
      "execution_count": 95,
      "outputs": [
        {
          "output_type": "stream",
          "name": "stdout",
          "text": [
            "    TAHUN         NAMA PROVINSI NAMA KABUPATEN/KOTA NAMA KECAMATAN  \\\n",
            "0    2013  PROVINSI DKI JAKARTA       JAKARTA PUSAT         GAMBIR   \n",
            "1    2013  PROVINSI DKI JAKARTA       JAKARTA PUSAT         GAMBIR   \n",
            "2    2013  PROVINSI DKI JAKARTA       JAKARTA PUSAT         GAMBIR   \n",
            "3    2013  PROVINSI DKI JAKARTA       JAKARTA PUSAT         GAMBIR   \n",
            "4    2013  PROVINSI DKI JAKARTA       JAKARTA PUSAT         GAMBIR   \n",
            "5    2013  PROVINSI DKI JAKARTA       JAKARTA PUSAT         GAMBIR   \n",
            "6    2013  PROVINSI DKI JAKARTA       JAKARTA PUSAT    SAWAH BESAR   \n",
            "7    2013  PROVINSI DKI JAKARTA       JAKARTA PUSAT    SAWAH BESAR   \n",
            "8    2013  PROVINSI DKI JAKARTA       JAKARTA PUSAT    SAWAH BESAR   \n",
            "9    2013  PROVINSI DKI JAKARTA       JAKARTA PUSAT    SAWAH BESAR   \n",
            "10   2013  PROVINSI DKI JAKARTA       JAKARTA PUSAT    SAWAH BESAR   \n",
            "11   2013  PROVINSI DKI JAKARTA       JAKARTA PUSAT      KEMAYORAN   \n",
            "12   2013  PROVINSI DKI JAKARTA       JAKARTA PUSAT      KEMAYORAN   \n",
            "13   2013  PROVINSI DKI JAKARTA       JAKARTA PUSAT      KEMAYORAN   \n",
            "14   2013  PROVINSI DKI JAKARTA       JAKARTA PUSAT      KEMAYORAN   \n",
            "15   2013  PROVINSI DKI JAKARTA       JAKARTA PUSAT      KEMAYORAN   \n",
            "16   2013  PROVINSI DKI JAKARTA       JAKARTA PUSAT      KEMAYORAN   \n",
            "17   2013  PROVINSI DKI JAKARTA       JAKARTA PUSAT      KEMAYORAN   \n",
            "18   2013  PROVINSI DKI JAKARTA       JAKARTA PUSAT      KEMAYORAN   \n",
            "19   2013  PROVINSI DKI JAKARTA       JAKARTA PUSAT          SENEN   \n",
            "20   2013  PROVINSI DKI JAKARTA       JAKARTA PUSAT          SENEN   \n",
            "21   2013  PROVINSI DKI JAKARTA       JAKARTA PUSAT          SENEN   \n",
            "22   2013  PROVINSI DKI JAKARTA       JAKARTA PUSAT          SENEN   \n",
            "23   2013  PROVINSI DKI JAKARTA       JAKARTA PUSAT          SENEN   \n",
            "24   2013  PROVINSI DKI JAKARTA       JAKARTA PUSAT          SENEN   \n",
            "25   2013  PROVINSI DKI JAKARTA       JAKARTA PUSAT  CEMPAKA PUTIH   \n",
            "26   2013  PROVINSI DKI JAKARTA       JAKARTA PUSAT  CEMPAKA PUTIH   \n",
            "27   2013  PROVINSI DKI JAKARTA       JAKARTA PUSAT  CEMPAKA PUTIH   \n",
            "28   2013  PROVINSI DKI JAKARTA       JAKARTA PUSAT        MENTENG   \n",
            "29   2013  PROVINSI DKI JAKARTA       JAKARTA PUSAT        MENTENG   \n",
            "30   2013  PROVINSI DKI JAKARTA       JAKARTA PUSAT        MENTENG   \n",
            "31   2013  PROVINSI DKI JAKARTA       JAKARTA PUSAT        MENTENG   \n",
            "32   2013  PROVINSI DKI JAKARTA       JAKARTA PUSAT        MENTENG   \n",
            "33   2013  PROVINSI DKI JAKARTA       JAKARTA PUSAT    TANAH ABANG   \n",
            "34   2013  PROVINSI DKI JAKARTA       JAKARTA PUSAT    TANAH ABANG   \n",
            "35   2013  PROVINSI DKI JAKARTA       JAKARTA PUSAT    TANAH ABANG   \n",
            "36   2013  PROVINSI DKI JAKARTA       JAKARTA PUSAT    TANAH ABANG   \n",
            "37   2013  PROVINSI DKI JAKARTA       JAKARTA PUSAT    TANAH ABANG   \n",
            "38   2013  PROVINSI DKI JAKARTA       JAKARTA PUSAT    TANAH ABANG   \n",
            "39   2013  PROVINSI DKI JAKARTA       JAKARTA PUSAT    TANAH ABANG   \n",
            "40   2013  PROVINSI DKI JAKARTA       JAKARTA PUSAT     JOHAR BARU   \n",
            "41   2013  PROVINSI DKI JAKARTA       JAKARTA PUSAT     JOHAR BARU   \n",
            "42   2013  PROVINSI DKI JAKARTA       JAKARTA PUSAT     JOHAR BARU   \n",
            "43   2013  PROVINSI DKI JAKARTA       JAKARTA PUSAT     JOHAR BARU   \n",
            "\n",
            "           NAMA KELURAHAN  LAKI-LAKI WNI  PEREMPUAN WNI  LAKI-LAKI WNA  \\\n",
            "0                  GAMBIR           1790           1690            1.0   \n",
            "1                  CIDENG           9159           9206            5.0   \n",
            "2            PETOJO UTARA          10811          10436           10.0   \n",
            "3          PETOJO SELATAN           8455           8023            5.0   \n",
            "4            KEBON KELAPA           6300           6078            6.0   \n",
            "5               DURI PULO          13056          12588            2.0   \n",
            "6              PASAR BARU           7557           7552           34.0   \n",
            "7            KARANG ANYAR          16327          15859            4.0   \n",
            "8                 KARTINI          13610          13808            3.0   \n",
            "9     GUNUNG SAHARI UTARA           9734           9889           15.0   \n",
            "10     MANGGA DUA SELATAN          17269          16458           42.0   \n",
            "11              KEMAYORAN          12365          11932            6.0   \n",
            "12           KEBON KOSONG          15933          15665           33.0   \n",
            "13          HARAPAN MULIA          13523          13049            2.0   \n",
            "14                SERDANG          17284          17020            1.0   \n",
            "15  GUNUNG SAHARI SELATAN          11730          11487           13.0   \n",
            "16           CEMPAKA BARU          19103          18601            NaN   \n",
            "17             SUMUR BATU          13441          13288           20.0   \n",
            "18           UTAN PANJANG          17125          16351            4.0   \n",
            "19                  SENEN           4236           3975           10.0   \n",
            "20                 KENARI           5445           5252            2.0   \n",
            "21                PASEBAN          13787          13477            NaN   \n",
            "22                 KRAMAT          17482          16331            2.0   \n",
            "23                KWITANG           9176           9148            1.0   \n",
            "24                 BUNGUR          11200          10849            4.0   \n",
            "25    CEMPAKA PUTIH TIMUR          13630          13686           24.0   \n",
            "26    CEMPAKA PUTIH BARAT          20029          19681           12.0   \n",
            "27               RAWASARI          12462          12465            1.0   \n",
            "28                MENTENG          14576          14610            7.0   \n",
            "29             PEGANGSAAN          13392          13214            2.0   \n",
            "30                 CIKINI           4825           4772            5.0   \n",
            "31             GONDANGDIA           2196           2443           11.0   \n",
            "32            KEBON SIRIH           7976           7439            2.0   \n",
            "33                 GELORA           1865           1883            6.0   \n",
            "34        BENDUNGAN HILIR          12713          12582           11.0   \n",
            "35          KARET TENGSIN          11002          10271           10.0   \n",
            "36             PETAMBURAN          20112          18794           17.0   \n",
            "37           KEBON MELATI          19826          18672            8.0   \n",
            "38           KEBON KACANG          12873          12357            3.0   \n",
            "39           KAMPUNG BALI           7348           7205            3.0   \n",
            "40             JOHAR BARU          21016          20953            2.0   \n",
            "41           KAMPUNG RAWA          13337          12499            1.0   \n",
            "42                  GALUR          11077          10259            NaN   \n",
            "43           TANAH TINGGI          22680          21450            NaN   \n",
            "\n",
            "    PEREMPUAN WNA  Unnamed: 9  Unnamed: 10  Unnamed: 11  Unnamed: 12  \\\n",
            "0             2.0         NaN          NaN          NaN          NaN   \n",
            "1             6.0         NaN          NaN          NaN          NaN   \n",
            "2             8.0         NaN          NaN          NaN          NaN   \n",
            "3             7.0         NaN          NaN          NaN          NaN   \n",
            "4            10.0         NaN          NaN          NaN          NaN   \n",
            "5             6.0         NaN          NaN          NaN          NaN   \n",
            "6            55.0         NaN          NaN          NaN          NaN   \n",
            "7             2.0         NaN          NaN          NaN          NaN   \n",
            "8             3.0         NaN          NaN          NaN          NaN   \n",
            "9            30.0         NaN          NaN          NaN          NaN   \n",
            "10           33.0         NaN          NaN          NaN          NaN   \n",
            "11            8.0         NaN          NaN          NaN          NaN   \n",
            "12           25.0         NaN          NaN          NaN          NaN   \n",
            "13            3.0         NaN          NaN          NaN          NaN   \n",
            "14            1.0         NaN          NaN          NaN          NaN   \n",
            "15           15.0         NaN          NaN          NaN          NaN   \n",
            "16            3.0         NaN          NaN          NaN          NaN   \n",
            "17           13.0         NaN          NaN          NaN          NaN   \n",
            "18            3.0         NaN          NaN          NaN          NaN   \n",
            "19            7.0         NaN          NaN          NaN          NaN   \n",
            "20            NaN         NaN          NaN          NaN          NaN   \n",
            "21            NaN         NaN          NaN          NaN          NaN   \n",
            "22            2.0         NaN          NaN          NaN          NaN   \n",
            "23            1.0         NaN          NaN          NaN          NaN   \n",
            "24            3.0         NaN          NaN          NaN          NaN   \n",
            "25           24.0         NaN          NaN          NaN          NaN   \n",
            "26            2.0         NaN          NaN          NaN          NaN   \n",
            "27            3.0         NaN          NaN          NaN          NaN   \n",
            "28           10.0         NaN          NaN          NaN          NaN   \n",
            "29            NaN         NaN          NaN          NaN          NaN   \n",
            "30            1.0         NaN          NaN          NaN          NaN   \n",
            "31           13.0         NaN          NaN          NaN          NaN   \n",
            "32            2.0         NaN          NaN          NaN          NaN   \n",
            "33            2.0         NaN          NaN          NaN          NaN   \n",
            "34            2.0         NaN          NaN          NaN          NaN   \n",
            "35            3.0         NaN          NaN          NaN          NaN   \n",
            "36           13.0         NaN          NaN          NaN          NaN   \n",
            "37            4.0         NaN          NaN          NaN          NaN   \n",
            "38            4.0         NaN          NaN          NaN          NaN   \n",
            "39            1.0         NaN          NaN          NaN          NaN   \n",
            "40            NaN         NaN          NaN          NaN          NaN   \n",
            "41            NaN         NaN          NaN          NaN          NaN   \n",
            "42            NaN         NaN          NaN          NaN          NaN   \n",
            "43            NaN         NaN          NaN          NaN          NaN   \n",
            "\n",
            "    Unnamed: 13  Unnamed: 14  Unnamed: 15  Unnamed: 16  Unnamed: 17  \n",
            "0           NaN          NaN          NaN          NaN          NaN  \n",
            "1           NaN          NaN          NaN          NaN          NaN  \n",
            "2           NaN          NaN          NaN          NaN          NaN  \n",
            "3           NaN          NaN          NaN          NaN          NaN  \n",
            "4           NaN          NaN          NaN          NaN          NaN  \n",
            "5           NaN          NaN          NaN          NaN          NaN  \n",
            "6           NaN          NaN          NaN          NaN          NaN  \n",
            "7           NaN          NaN          NaN          NaN          NaN  \n",
            "8           NaN          NaN          NaN          NaN          NaN  \n",
            "9           NaN          NaN          NaN          NaN          NaN  \n",
            "10          NaN          NaN          NaN          NaN          NaN  \n",
            "11          NaN          NaN          NaN          NaN          NaN  \n",
            "12          NaN          NaN          NaN          NaN          NaN  \n",
            "13          NaN          NaN          NaN          NaN          NaN  \n",
            "14          NaN          NaN          NaN          NaN          NaN  \n",
            "15          NaN          NaN          NaN          NaN          NaN  \n",
            "16          NaN          NaN          NaN          NaN          NaN  \n",
            "17          NaN          NaN          NaN          NaN          NaN  \n",
            "18          NaN          NaN          NaN          NaN          NaN  \n",
            "19          NaN          NaN          NaN          NaN          NaN  \n",
            "20          NaN          NaN          NaN          NaN          NaN  \n",
            "21          NaN          NaN          NaN          NaN          NaN  \n",
            "22          NaN          NaN          NaN          NaN          NaN  \n",
            "23          NaN          NaN          NaN          NaN          NaN  \n",
            "24          NaN          NaN          NaN          NaN          NaN  \n",
            "25          NaN          NaN          NaN          NaN          NaN  \n",
            "26          NaN          NaN          NaN          NaN          NaN  \n",
            "27          NaN          NaN          NaN          NaN          NaN  \n",
            "28          NaN          NaN          NaN          NaN          NaN  \n",
            "29          NaN          NaN          NaN          NaN          NaN  \n",
            "30          NaN          NaN          NaN          NaN          NaN  \n",
            "31          NaN          NaN          NaN          NaN          NaN  \n",
            "32          NaN          NaN          NaN          NaN          NaN  \n",
            "33          NaN          NaN          NaN          NaN          NaN  \n",
            "34          NaN          NaN          NaN          NaN          NaN  \n",
            "35          NaN          NaN          NaN          NaN          NaN  \n",
            "36          NaN          NaN          NaN          NaN          NaN  \n",
            "37          NaN          NaN          NaN          NaN          NaN  \n",
            "38          NaN          NaN          NaN          NaN          NaN  \n",
            "39          NaN          NaN          NaN          NaN          NaN  \n",
            "40          NaN          NaN          NaN          NaN          NaN  \n",
            "41          NaN          NaN          NaN          NaN          NaN  \n",
            "42          NaN          NaN          NaN          NaN          NaN  \n",
            "43          NaN          NaN          NaN          NaN          NaN  \n"
          ]
        }
      ]
    },
    {
      "cell_type": "markdown",
      "source": [
        "Bar Chart"
      ],
      "metadata": {
        "id": "mIqR3CuYRpz5"
      }
    },
    {
      "cell_type": "code",
      "source": [
        "import pandas as pd\n",
        "import numpy as np\n",
        "import matplotlib.pyplot as plt\n",
        "\n",
        "table = pd.read_csv(\"https://storage.googleapis.com/dqlab-dataset/penduduk_gender_head.csv\")\n",
        "table.head()\n",
        "x_label = table['NAMA KELURAHAN']\n",
        "plt.bar(x=np.arange(len(x_label)),height=table['LAKI-LAKI WNI'])\n",
        "plt.show()"
      ],
      "metadata": {
        "colab": {
          "base_uri": "https://localhost:8080/",
          "height": 265
        },
        "id": "O5N8k_GCSMjT",
        "outputId": "f05ae048-513c-4afc-a68a-b73e6bc736a0"
      },
      "execution_count": 96,
      "outputs": [
        {
          "output_type": "display_data",
          "data": {
            "image/png": "[encoded data removed]",
            "text/plain": [
              "<Figure size 432x288 with 1 Axes>"
            ]
          },
          "metadata": {
            "needs_background": "light"
          }
        }
      ]
    },
    {
      "cell_type": "markdown",
      "source": [
        "Parameter dalam Grafik (Memberikan Nilai Axis dari data CSV)"
      ],
      "metadata": {
        "id": "PFPa77kkSSLr"
      }
    },
    {
      "cell_type": "code",
      "source": [
        "import pandas as pd\n",
        "import numpy as np\n",
        "import matplotlib.pyplot as plt\n",
        "\n",
        "table=pd.read_csv(\"https://storage.googleapis.com/dqlab-dataset/penduduk_gender_head.csv\")\n",
        "table.head()\n",
        "\n",
        "x_label=table['NAMA KELURAHAN']\n",
        "plt.figure(figsize=(20,10))\n",
        "plt.bar(x=np.arange(len(x_label)),height=table['LAKI-LAKI WNI'])\n",
        "plt.xticks(np.arange(len(x_label)),table['NAMA KELURAHAN'], rotation=90)\n",
        "plt.show()"
      ],
      "metadata": {
        "colab": {
          "base_uri": "https://localhost:8080/",
          "height": 580
        },
        "id": "FC_REbQaSMwV",
        "outputId": "b1cf1b31-e1a4-45f8-a1cc-82acd21ae4a0"
      },
      "execution_count": 97,
      "outputs": [
        {
          "output_type": "display_data",
          "data": {
            "image/png": "[encoded data removed]",
            "text/plain": [
              "<Figure size 1440x720 with 1 Axes>"
            ]
          },
          "metadata": {
            "needs_background": "light"
          }
        }
      ]
    },
    {
      "cell_type": "markdown",
      "source": [
        "Menambah Title dan Label pada Grafik"
      ],
      "metadata": {
        "id": "7EHZfwo8TNas"
      }
    },
    {
      "cell_type": "code",
      "source": [
        "import pandas as pd\n",
        "import numpy as np\n",
        "import matplotlib.pyplot as plt\n",
        "\n",
        "table =pd.read_csv(\"https://storage.googleapis.com/dqlab-dataset/penduduk_gender_head.csv\")\n",
        "table.head()\n",
        "\n",
        "x_label = table['NAMA KELURAHAN']\n",
        "plt.figure(figsize=(20,10))\n",
        "plt.bar(x=np.arange(len(x_label)), height=table['LAKI-LAKI WNI'])\n",
        "plt.xticks(np.arange(len(x_label)), table['NAMA KELURAHAN'], rotation=90)\n",
        "plt.xlabel('Kelurahan di Jakarta Pusat')\n",
        "plt.ylabel('Jumlah Penduduk Laki - Laki')\n",
        "plt.title('Persebaran Jumlah Penduduk Laki - Laki di Jakarta Pusat')\n",
        "\n",
        "plt.show()"
      ],
      "metadata": {
        "colab": {
          "base_uri": "https://localhost:8080/",
          "height": 597
        },
        "id": "QLA5OQPKTAfm",
        "outputId": "4d0e8652-f3c9-4b9e-a794-1f9307037834"
      },
      "execution_count": 98,
      "outputs": [
        {
          "output_type": "display_data",
          "data": {
            "image/png": "[encoded data removed]",
            "text/plain": [
              "<Figure size 1440x720 with 1 Axes>"
            ]
          },
          "metadata": {
            "needs_background": "light"
          }
        }
      ]
    }
  ]
}